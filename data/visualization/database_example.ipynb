{
 "cells": [
  {
   "cell_type": "code",
   "execution_count": 2,
   "metadata": {},
   "outputs": [],
   "source": [
    "import numpy as np\n",
    "import pandas as pd\n",
    "import matplotlib.pyplot as plt\n",
    "from sqlalchemy import create_engine\n",
    "\n",
    "plt.style.use('default')"
   ]
  },
  {
   "cell_type": "code",
   "execution_count": 3,
   "metadata": {},
   "outputs": [],
   "source": [
    "# assumes .env file is in working directory\n",
    "db_url = ! source .env; echo ${DATABASE_URL}\n",
    "db_url = db_url[0]"
   ]
  },
  {
   "cell_type": "code",
   "execution_count": 4,
   "metadata": {},
   "outputs": [
    {
     "name": "stdout",
     "output_type": "stream",
     "text": [
      "    id                                  bci_configuration collector_name  \\\n",
      "0    1  <?xml version=\"1.0\"?>\\n<info>\\n\\t<name>obci_ee...            aaa   \n",
      "1    2  <?xml version=\"1.0\"?>\\n<info>\\n\\t<name>obci_ee...        Michael   \n",
      "2    3  <?xml version=\"1.0\"?>\\n<info>\\n\\t<name>obci_ee...              s   \n",
      "3    4  <?xml version=\"1.0\"?>\\n<info>\\n\\t<name>obci_ee...              s   \n",
      "4    5  <?xml version=\"1.0\"?>\\n<info>\\n\\t<name>obci_ee...              s   \n",
      "..  ..                                                ...            ...   \n",
      "83  84  <?xml version=\"1.0\"?>\\n<info>\\n\\t<name>obci_ee...            S02   \n",
      "84  85  <?xml version=\"1.0\"?>\\n<info>\\n\\t<name>obci_ee...            S02   \n",
      "85  86  <?xml version=\"1.0\"?>\\n<info>\\n\\t<name>obci_ee...            S02   \n",
      "86  87  <?xml version=\"1.0\"?>\\n<info>\\n\\t<name>obci_ee...            S02   \n",
      "87  88  <?xml version=\"1.0\"?>\\n<info>\\n\\t<name>obci_ee...            S02   \n",
      "\n",
      "   collection_start_time collection_end_time  \n",
      "0                   None                None  \n",
      "1                   None                None  \n",
      "2                   None                None  \n",
      "3                   None                None  \n",
      "4                   None                None  \n",
      "..                   ...                 ...  \n",
      "83                  None                None  \n",
      "84                  None                None  \n",
      "85                  None                None  \n",
      "86                  None                None  \n",
      "87                  None                None  \n",
      "\n",
      "[88 rows x 5 columns]\n"
     ]
    }
   ],
   "source": [
    "# Create an engine instance\n",
    "alchemyEngine = create_engine(db_url)\n",
    "\n",
    "# Connect to PostgreSQL server\n",
    "dbConnection = alchemyEngine.connect()\n",
    "\n",
    "# Read data from PostgreSQL database table and load into a DataFrame instance\n",
    "bci_collection = pd.read_sql(\"SELECT * FROM bci_collection\", dbConnection)\n",
    "\n",
    "# Print the DataFrame\n",
    "print(bci_collection)"
   ]
  },
  {
   "cell_type": "code",
   "execution_count": 52,
   "metadata": {},
   "outputs": [
    {
     "name": "stdout",
     "output_type": "stream",
     "text": [
      "S02 (520440):\t[18, 19, 20, 21, 24, 25, 26, 27, 28, 29, 39, 40, 41, 44]\n",
      "S04 (311850):\t[31, 32, 74, 75, 76, 77, 78, 79]\n",
      "S05 (234100):\t[33, 34, 35, 36, 37, 38]\n",
      "S06 (383303):\t[50, 51, 52, 53, 54, 56, 57, 58, 59, 60]\n",
      "S07 (233900):\t[61, 62, 63, 64, 65, 66]\n",
      "S08 (233820):\t[68, 69, 70, 71, 72, 73]\n"
     ]
    }
   ],
   "source": [
    "# # this counts the number of rows for each subject\n",
    "# # takes a while to run\n",
    "\n",
    "# for name in bci_collection['collector_name'].drop_duplicates():\n",
    "#     collection_ids = bci_collection.loc[bci_collection['collector_name'] == name, 'id']\n",
    "#     collection_ids_nonempty = []\n",
    "#     total_count = 0\n",
    "#     for id in collection_ids:\n",
    "\n",
    "#         count = pd.read_sql(\n",
    "#             f\"SELECT COUNT(*) FROM collected_data WHERE collection_id = {id}\",\n",
    "#             dbConnection,\n",
    "#         ).iloc[0,0]\n",
    "\n",
    "#         if count > 0:\n",
    "#             collection_ids_nonempty.append(id)\n",
    "\n",
    "#         total_count += count\n",
    "\n",
    "#     if len(collection_ids_nonempty) > 0:\n",
    "#         print(f'{name} ({total_count}):\\t{collection_ids_nonempty}')\n"
   ]
  },
  {
   "cell_type": "code",
   "execution_count": 7,
   "metadata": {},
   "outputs": [
    {
     "name": "stdout",
     "output_type": "stream",
     "text": [
      "17    18\n",
      "18    19\n",
      "19    20\n",
      "20    21\n",
      "23    24\n",
      "24    25\n",
      "25    26\n",
      "26    27\n",
      "27    28\n",
      "28    29\n",
      "38    39\n",
      "39    40\n",
      "40    41\n",
      "41    42\n",
      "42    43\n",
      "43    44\n",
      "79    80\n",
      "80    81\n",
      "81    82\n",
      "82    83\n",
      "83    84\n",
      "84    85\n",
      "85    86\n",
      "86    87\n",
      "87    88\n",
      "Name: id, dtype: int64\n"
     ]
    }
   ],
   "source": [
    "subject_id = 'S02'\n",
    "collection_ids = bci_collection.loc[bci_collection['collector_name'] == subject_id, 'id'].drop_duplicates()\n",
    "print(collection_ids)"
   ]
  },
  {
   "cell_type": "code",
   "execution_count": 8,
   "metadata": {},
   "outputs": [
    {
     "name": "stdout",
     "output_type": "stream",
     "text": [
      "Total number of rows: 38980\n",
      "31 characters for collection ID 18\n",
      "Average number of rows per character: 1257\n",
      "-----\n",
      "Total number of rows: 38980\n",
      "31 characters for collection ID 19\n",
      "Average number of rows per character: 1257\n",
      "-----\n",
      "Total number of rows: 38920\n",
      "31 characters for collection ID 20\n",
      "Average number of rows per character: 1255\n",
      "-----\n",
      "Total number of rows: 38990\n",
      "31 characters for collection ID 21\n",
      "Average number of rows per character: 1258\n",
      "-----\n",
      "Total number of rows: 38960\n",
      "31 characters for collection ID 24\n",
      "Average number of rows per character: 1257\n",
      "-----\n",
      "Total number of rows: 38950\n",
      "31 characters for collection ID 25\n",
      "Average number of rows per character: 1256\n",
      "-----\n",
      "Total number of rows: 38960\n",
      "31 characters for collection ID 26\n",
      "Average number of rows per character: 1257\n",
      "-----\n",
      "Total number of rows: 38980\n",
      "31 characters for collection ID 27\n",
      "Average number of rows per character: 1257\n",
      "-----\n",
      "Total number of rows: 39040\n",
      "31 characters for collection ID 28\n",
      "Average number of rows per character: 1259\n",
      "-----\n",
      "Total number of rows: 38950\n",
      "31 characters for collection ID 29\n",
      "Average number of rows per character: 1256\n",
      "-----\n",
      "Total number of rows: 37700\n",
      "30 characters for collection ID 39\n",
      "Average number of rows per character: 1257\n",
      "-----\n",
      "Total number of rows: 38980\n",
      "31 characters for collection ID 40\n",
      "Average number of rows per character: 1257\n",
      "-----\n",
      "Total number of rows: 38960\n",
      "31 characters for collection ID 41\n",
      "Average number of rows per character: 1257\n",
      "-----\n",
      "Total number of rows: 0\n",
      "0 characters for collection ID 42\n",
      "Average number of rows per character: nan\n",
      "-----\n",
      "Total number of rows: 0\n",
      "0 characters for collection ID 43\n",
      "Average number of rows per character: nan\n",
      "-----\n",
      "Total number of rows: 15090\n",
      "12 characters for collection ID 44\n",
      "Average number of rows per character: 1258\n",
      "-----\n",
      "Total number of rows: 38980\n",
      "31 characters for collection ID 80\n",
      "Average number of rows per character: 1257\n",
      "-----\n",
      "Total number of rows: 38960\n",
      "31 characters for collection ID 81\n",
      "Average number of rows per character: 1257\n",
      "-----\n",
      "Total number of rows: 38930\n",
      "31 characters for collection ID 82\n",
      "Average number of rows per character: 1256\n",
      "-----\n",
      "Total number of rows: 38980\n",
      "31 characters for collection ID 83\n",
      "Average number of rows per character: 1257\n",
      "-----\n",
      "Total number of rows: 38970\n",
      "31 characters for collection ID 84\n",
      "Average number of rows per character: 1257\n",
      "-----\n",
      "Total number of rows: 38950\n",
      "31 characters for collection ID 85\n",
      "Average number of rows per character: 1256\n",
      "-----\n",
      "Total number of rows: 38930\n",
      "31 characters for collection ID 86\n",
      "Average number of rows per character: 1256\n",
      "-----\n",
      "Total number of rows: 38990\n",
      "31 characters for collection ID 87\n",
      "Average number of rows per character: 1258\n",
      "-----\n",
      "Total number of rows: 39000\n",
      "31 characters for collection ID 88\n",
      "Average number of rows per character: 1258\n",
      "-----\n"
     ]
    }
   ],
   "source": [
    "# takes up to ~30 seconds to run\n",
    "\n",
    "subject_data = []\n",
    "# collection_ids = ['43']\n",
    "\n",
    "for collection_id in collection_ids:\n",
    "\n",
    "    df = pd.read_sql(\n",
    "        f\"SELECT * FROM collected_data WHERE collection_id = {collection_id}\",\n",
    "         dbConnection\n",
    "    )\n",
    "\n",
    "    n_rows_per_character = df['character'].value_counts()\n",
    "    print(f'Total number of rows: {df.shape[0]}')\n",
    "    print(f'{len(n_rows_per_character)} characters for collection ID {collection_id}')\n",
    "    print(f'Average number of rows per character: {n_rows_per_character.mean():.0f}')\n",
    "    print('-----')\n",
    "\n",
    "    subject_data.append(df)\n",
    "    "
   ]
  },
  {
   "cell_type": "code",
   "execution_count": 7,
   "metadata": {},
   "outputs": [
    {
     "name": "stdout",
     "output_type": "stream",
     "text": [
      "1260    21\n",
      "1250     9\n",
      "1270     1\n",
      "dtype: int64\n"
     ]
    },
    {
     "data": {
      "text/plain": [
       "[<matplotlib.lines.Line2D at 0x160912400>]"
      ]
     },
     "execution_count": 7,
     "metadata": {},
     "output_type": "execute_result"
    },
    {
     "data": {
      "image/png": "[encoded data removed]",
      "text/plain": [
       "<Figure size 1000x300 with 1 Axes>"
      ]
     },
     "metadata": {},
     "output_type": "display_data"
    }
   ],
   "source": [
    "i_session = 0\n",
    "channel_name = 'channel_5'\n",
    "character = 'z'\n",
    "fs = 250\n",
    "\n",
    "session_data = subject_data[i_session]\n",
    "\n",
    "n_sample_per_character = session_data.groupby('character').size()\n",
    "print(n_sample_per_character.value_counts())\n",
    "\n",
    "fig, ax = plt.subplots(figsize=(10,3))\n",
    "trial_data = session_data.loc[session_data['character'] == character].sort_values('order')\n",
    "ax.plot(np.arange(len(trial_data))/fs, trial_data[channel_name])\n"
   ]
  }
 ],
 "metadata": {
  "interpreter": {
   "hash": "b8e85990e5f84262d479bed5d8b84c8f68ae2bde0d654c69129c0434ae7438d1"
  },
  "kernelspec": {
   "display_name": "Python 3.8.5 ('dcp')",
   "language": "python",
   "name": "python3"
  },
  "language_info": {
   "codemirror_mode": {
    "name": "ipython",
    "version": 3
   },
   "file_extension": ".py",
   "mimetype": "text/x-python",
   "name": "python",
   "nbconvert_exporter": "python",
   "pygments_lexer": "ipython3",
   "version": "3.8.5"
  },
  "orig_nbformat": 4
 },
 "nbformat": 4,
 "nbformat_minor": 2
}

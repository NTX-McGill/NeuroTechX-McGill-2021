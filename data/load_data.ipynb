{
 "cells": [
  {
   "cell_type": "code",
   "execution_count": null,
   "id": "c6db91c9",
   "metadata": {},
   "outputs": [],
   "source": [
    "import pandas as pd\n",
    "import numpy as np\n",
    "import matplotlib.pyplot as plt\n",
    "\n",
    "from scipy.signal import welch\n"
   ]
  },
  {
   "cell_type": "code",
   "execution_count": null,
   "id": "662495d5",
   "metadata": {},
   "outputs": [],
   "source": [
    "fpath_data = './2021-11-27/labelled_from_OpenBCI/S02-trial1-2021-11-27-OpenBCI.csv'\n"
   ]
  },
  {
   "cell_type": "code",
   "execution_count": null,
   "id": "39710e1a",
   "metadata": {},
   "outputs": [],
   "source": [
    "df_data = pd.read_csv(fpath_data)\n",
    "df_data['Group'] = (df_data['Direction'] != df_data['Direction'].shift()).cumsum()\n",
    "df_data\n"
   ]
  }
 ],
 "metadata": {
  "kernelspec": {
   "display_name": "Python 3",
   "language": "python",
   "name": "python3"
  },
  "language_info": {
   "codemirror_mode": {
    "name": "ipython",
    "version": 3
   },
   "file_extension": ".py",
   "mimetype": "text/x-python",
   "name": "python",
   "nbconvert_exporter": "python",
   "pygments_lexer": "ipython3",
   "version": "3.7.10"
  }
 },
 "nbformat": 4,
 "nbformat_minor": 5
}
